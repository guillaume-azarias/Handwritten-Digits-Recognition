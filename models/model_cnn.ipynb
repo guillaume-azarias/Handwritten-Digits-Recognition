{
 "cells": [
  {
   "cell_type": "markdown",
   "metadata": {},
   "source": [
    "# Intro to Convolutional Neural Networks\n",
    "*[Check the original article](https://docs.w3cub.com/tensorflow~guide/tutorials/layers)*\n",
    "\n",
    "\n",
    "Convolutional neural networks (CNNs) are the current state-of-the-art model architecture for image classification tasks. CNNs apply a series of filters to the raw pixel data of an image to extract and learn higher-level features, which the model can then use for classification. CNNs contains three components:\n",
    "\n",
    "- **Convolutional layers**, which apply a specified number of convolution filters to the image. For each subregion, the layer performs a set of mathematical operations to produce a single value in the output feature map. Convolutional layers then typically apply a ReLU activation function to the output to introduce nonlinearities into the model.\n",
    "\n",
    "- **Pooling layers**, which downsample the image data extracted by the convolutional layers to reduce the dimensionality of the feature map in order to decrease processing time. A commonly used pooling algorithm is max pooling, which extracts subregions of the feature map (e.g., 2x2-pixel tiles), keeps their maximum value, and discards all other values.\n",
    "\n",
    "- **Dense (fully connected) layers**, which perform classification on the features extracted by the convolutional layers and downsampled by the pooling layers. In a dense layer, every node in the layer is connected to every node in the preceding layer.\n",
    "\n",
    "Typically, a CNN is composed of a stack of convolutional modules that perform feature extraction. Each module consists of a convolutional layer followed by a pooling layer. The last convolutional module is followed by one or more dense layers that perform classification. The final dense layer in a CNN contains a single node for each target class in the model (all the possible classes the model may predict), with a softmax activation function to generate a value between 0–1 for each node (the sum of all these softmax values is equal to 1). We can interpret the softmax values for a given image as relative measurements of how likely it is that the image falls into each target class.\n",
    "\n",
    "Code from [here](https://www.tensorflow.org/tutorials/quickstart/beginner)"
   ]
  },
  {
   "cell_type": "markdown",
   "metadata": {},
   "source": [
    "https://omegaml.github.io/omegaml/nb/tfestimator-tutorial.html?highlight=mnist\n",
    "\n",
    "https://omegaml.github.io/omegaml/guide/getstarted.html#starting-omega-ml-locally\n",
    "\n",
    "To run a local jupyter notebook within your omega|ml environment:\n",
    "!wget https://raw.githubusercontent.com/omegaml/omegaml/master/docker-compose.yml\n",
    "!docker-compose up -d"
   ]
  },
  {
   "cell_type": "code",
   "execution_count": 391,
   "metadata": {},
   "outputs": [
    {
     "name": "stdout",
     "output_type": "stream",
     "text": [
      "2.2.0\n"
     ]
    }
   ],
   "source": [
    "import omegaml as om\n",
    "import numpy as np\n",
    "import matplotlib.pyplot as plt\n",
    "import time\n",
    "import random\n",
    "\n",
    "import mnist # https://github.com/datapythonista/mnist\n",
    "\n",
    "import tensorflow as tf\n",
    "print(tf.__version__)\n",
    "# tf.logging.set_verbosity(tf.logging.INFO)\n"
   ]
  },
  {
   "cell_type": "markdown",
   "metadata": {},
   "source": [
    "## Load the data"
   ]
  },
  {
   "cell_type": "code",
   "execution_count": 365,
   "metadata": {},
   "outputs": [],
   "source": [
    "# Choose the size of the training dataset\n",
    "row_number = 60000"
   ]
  },
  {
   "cell_type": "code",
   "execution_count": 366,
   "metadata": {},
   "outputs": [],
   "source": [
    "# The mnist dataset originally 28x18\n",
    "all_images = mnist.train_images()\n",
    "\n",
    "# Downsample the training dataset\n",
    "assert row_number<= all_images.shape[0], 'The number of rows wanted is higher than the size of the training dataset.'\n",
    "train_images = all_images[:row_number, :]\n",
    "\n",
    "# train_labels\n",
    "all_labels = mnist.train_labels()\n",
    "train_labels = all_labels[:row_number]"
   ]
  },
  {
   "cell_type": "code",
   "execution_count": 367,
   "metadata": {},
   "outputs": [],
   "source": [
    "# Load the test dataset\n",
    "test_images = mnist.test_images()\n",
    "test_labels = mnist.test_labels()"
   ]
  },
  {
   "cell_type": "markdown",
   "metadata": {},
   "source": [
    "## Assess the quality of the training and test datasets"
   ]
  },
  {
   "cell_type": "code",
   "execution_count": 368,
   "metadata": {},
   "outputs": [
    {
     "data": {
      "image/png": "[encoded data removed]",
      "text/plain": [
       "<Figure size 432x288 with 12 Axes>"
      ]
     },
     "metadata": {
      "needs_background": "light"
     },
     "output_type": "display_data"
    }
   ],
   "source": [
    "# Show a random sample of drawings from the train_images\n",
    "n_show = 6\n",
    "n = random.randint(n_show,train_images.shape[0]-n_show)\n",
    "\n",
    "_, axes = plt.subplots(2, n_show)\n",
    "images_and_labels = list(zip(train_images, train_labels))\n",
    "for ax, (image, label) in zip(axes[0, :], images_and_labels[n:n+n_show]):\n",
    "    ax.set_axis_off()\n",
    "    ax.imshow(image, cmap=plt.cm.gray_r, interpolation='nearest')\n",
    "    ax.set_title('Train %i' % label)"
   ]
  },
  {
   "cell_type": "code",
   "execution_count": 369,
   "metadata": {},
   "outputs": [
    {
     "data": {
      "image/png": "[encoded data removed]",
      "text/plain": [
       "<Figure size 432x288 with 12 Axes>"
      ]
     },
     "metadata": {
      "needs_background": "light"
     },
     "output_type": "display_data"
    }
   ],
   "source": [
    "# Show a random sample of drawings from the test_images (for quality check)\n",
    "n_show = 6\n",
    "n = random.randint(n_show,test_images.shape[0]-n_show)\n",
    "\n",
    "_, axes = plt.subplots(2, n_show)\n",
    "images_and_labels = list(zip(test_images, test_labels))\n",
    "for ax, (image, label) in zip(axes[0, :], images_and_labels[n:n+n_show]):\n",
    "    ax.set_axis_off()\n",
    "    ax.imshow(image, cmap=plt.cm.gray_r, interpolation='nearest')\n",
    "    ax.set_title('Test %i' % label)"
   ]
  },
  {
   "cell_type": "markdown",
   "metadata": {},
   "source": [
    "## Preprocessing"
   ]
  },
  {
   "cell_type": "code",
   "execution_count": 370,
   "metadata": {},
   "outputs": [],
   "source": [
    "# Normalising the images\n",
    "norm_images, norm_test = train_images/255, test_images/255"
   ]
  },
  {
   "cell_type": "markdown",
   "metadata": {},
   "source": [
    "## Model function for CNN"
   ]
  },
  {
   "cell_type": "code",
   "execution_count": 371,
   "metadata": {},
   "outputs": [],
   "source": [
    "model = tf.keras.models.Sequential([\n",
    "  tf.keras.layers.Flatten(input_shape=(28, 28)),\n",
    "  tf.keras.layers.Dense(128, activation='relu'),\n",
    "  tf.keras.layers.Dropout(0.2),\n",
    "  tf.keras.layers.Dense(10)\n",
    "])"
   ]
  },
  {
   "cell_type": "code",
   "execution_count": 372,
   "metadata": {},
   "outputs": [
    {
     "data": {
      "text/plain": [
       "array([[ 0.10951629,  0.11107666, -0.10979649, -0.4777438 , -0.58052504,\n",
       "        -0.01035791,  0.4091346 ,  0.17074874, -0.14845933, -0.5942743 ]],\n",
       "      dtype=float32)"
      ]
     },
     "execution_count": 372,
     "metadata": {},
     "output_type": "execute_result"
    }
   ],
   "source": [
    "# For each example the model returns a vector of \"logits\" or \"log-odds\" scores,\n",
    "# one for each class.\n",
    "\n",
    "predictions = model(norm_images[:1]).numpy()\n",
    "predictions"
   ]
  },
  {
   "cell_type": "code",
   "execution_count": 373,
   "metadata": {},
   "outputs": [
    {
     "data": {
      "text/plain": [
       "array([[0.11863975, 0.11882501, 0.09527608, 0.06594569, 0.0595044 ,\n",
       "        0.10523725, 0.1600858 , 0.12613137, 0.09166274, 0.05869186]],\n",
       "      dtype=float32)"
      ]
     },
     "execution_count": 373,
     "metadata": {},
     "output_type": "execute_result"
    }
   ],
   "source": [
    "# The tf.nn.softmax function converts these logits to \"probabilities\" for each\n",
    "# class:\n",
    "\n",
    "tf.nn.softmax(predictions).numpy()"
   ]
  },
  {
   "cell_type": "code",
   "execution_count": 374,
   "metadata": {},
   "outputs": [],
   "source": [
    "# The losses.SparseCategoricalCrossentropy loss takes a vector of logits and a\n",
    "# True index and returns a scalar loss for each example.\n",
    "loss_fn = tf.keras.losses.SparseCategoricalCrossentropy(from_logits=True)"
   ]
  },
  {
   "cell_type": "code",
   "execution_count": 375,
   "metadata": {},
   "outputs": [
    {
     "data": {
      "text/plain": [
       "2.2515378"
      ]
     },
     "execution_count": 375,
     "metadata": {},
     "output_type": "execute_result"
    }
   ],
   "source": [
    "# This loss is equal to the negative log probability of the true class: It is zero\n",
    "# if the model is sure of the correct class.\n",
    "\n",
    "# This untrained model gives probabilities close to random (1/10 for each class),\n",
    "# so the initial loss should be close to -tf.log(1/10) ~= 2.3.\n",
    "\n",
    "loss_fn(train_labels[:1], predictions).numpy()"
   ]
  },
  {
   "cell_type": "code",
   "execution_count": 376,
   "metadata": {},
   "outputs": [],
   "source": [
    "model.compile(optimizer='adam',\n",
    "              loss=loss_fn,\n",
    "              metrics=['accuracy'])"
   ]
  },
  {
   "cell_type": "code",
   "execution_count": 377,
   "metadata": {},
   "outputs": [
    {
     "name": "stdout",
     "output_type": "stream",
     "text": [
      "Epoch 1/10\n",
      "1875/1875 [==============================] - 5s 2ms/step - loss: 2.4330 - accuracy: 0.7522\n",
      "Epoch 2/10\n",
      "1875/1875 [==============================] - 5s 3ms/step - loss: 0.6339 - accuracy: 0.8373\n",
      "Epoch 3/10\n",
      "1875/1875 [==============================] - 4s 2ms/step - loss: 0.4948 - accuracy: 0.8702\n",
      "Epoch 4/10\n",
      "1875/1875 [==============================] - 4s 2ms/step - loss: 0.4179 - accuracy: 0.8888\n",
      "Epoch 5/10\n",
      "1875/1875 [==============================] - 4s 2ms/step - loss: 0.3795 - accuracy: 0.8990\n",
      "Epoch 6/10\n",
      "1875/1875 [==============================] - 4s 2ms/step - loss: 0.3678 - accuracy: 0.9037\n",
      "Epoch 7/10\n",
      "1875/1875 [==============================] - 4s 2ms/step - loss: 0.3574 - accuracy: 0.9086\n",
      "Epoch 8/10\n",
      "1875/1875 [==============================] - 4s 2ms/step - loss: 0.3313 - accuracy: 0.9147\n",
      "Epoch 9/10\n",
      "1875/1875 [==============================] - 4s 2ms/step - loss: 0.3270 - accuracy: 0.9148\n",
      "Epoch 10/10\n",
      "1875/1875 [==============================] - 4s 2ms/step - loss: 0.3206 - accuracy: 0.9189\n"
     ]
    },
    {
     "data": {
      "text/plain": [
       "<tensorflow.python.keras.callbacks.History at 0x7faa5191e748>"
      ]
     },
     "execution_count": 377,
     "metadata": {},
     "output_type": "execute_result"
    }
   ],
   "source": [
    "# The Model.fit method adjusts the model parameters to minimize the loss:\n",
    "model.fit(train_images, train_labels, epochs=10)"
   ]
  },
  {
   "cell_type": "code",
   "execution_count": 378,
   "metadata": {},
   "outputs": [
    {
     "name": "stdout",
     "output_type": "stream",
     "text": [
      "313/313 - 1s - loss: 0.2969 - accuracy: 0.9403\n"
     ]
    },
    {
     "data": {
      "text/plain": [
       "[0.2968526780605316, 0.9402999877929688]"
      ]
     },
     "execution_count": 378,
     "metadata": {},
     "output_type": "execute_result"
    }
   ],
   "source": [
    "# The Model.evaluate method checks the models performance, usually on a\n",
    "# \"Validation-set\" or \"Test-set\".\n",
    "\n",
    "model.evaluate(test_images, test_labels, verbose=2)\n"
   ]
  },
  {
   "cell_type": "markdown",
   "metadata": {},
   "source": [
    "The image classifier is now trained to ~94% accuracy on this dataset. To learn more, read the [TensorFlow tutorials](https://www.tensorflow.org/tutorials/)"
   ]
  },
  {
   "cell_type": "code",
   "execution_count": 379,
   "metadata": {},
   "outputs": [
    {
     "data": {
      "text/plain": [
       "<tf.Tensor: shape=(5, 10), dtype=float32, numpy=\n",
       "array([[0.09257199, 0.02634133, 0.04204759, 0.0515419 , 0.04854087,\n",
       "        0.0485504 , 0.03124629, 0.03255663, 0.48752767, 0.1390753 ],\n",
       "       [0.10785693, 0.0270547 , 0.04203179, 0.04984271, 0.03893365,\n",
       "        0.04789545, 0.0437344 , 0.0255597 , 0.53521717, 0.08187346],\n",
       "       [0.08641458, 0.02812085, 0.03751957, 0.04298344, 0.03993033,\n",
       "        0.04471735, 0.04479773, 0.02500002, 0.5422409 , 0.10827522],\n",
       "       [0.10731189, 0.0222143 , 0.03753642, 0.04539711, 0.03927771,\n",
       "        0.04508806, 0.04254097, 0.02422494, 0.5225017 , 0.11390683],\n",
       "       [0.10451666, 0.0200776 , 0.04040614, 0.04610874, 0.04979809,\n",
       "        0.04664694, 0.04533833, 0.02624791, 0.4935732 , 0.12728633]],\n",
       "      dtype=float32)>"
      ]
     },
     "execution_count": 379,
     "metadata": {},
     "output_type": "execute_result"
    }
   ],
   "source": [
    "probability_model = tf.keras.Sequential([\n",
    "  model,\n",
    "  tf.keras.layers.Softmax()\n",
    "])\n",
    "probability_model(norm_test[:5])"
   ]
  },
  {
   "cell_type": "markdown",
   "metadata": {},
   "source": [
    "## Test the model"
   ]
  },
  {
   "cell_type": "code",
   "execution_count": 386,
   "metadata": {},
   "outputs": [
    {
     "name": "stdout",
     "output_type": "stream",
     "text": [
      "Model stored in 0 minutes.\n"
     ]
    }
   ],
   "source": [
    "# Publishing the model\n",
    "# Time consuming task generally realized in 2min\n",
    "start_time = time.time()\n",
    "\n",
    "om.models.put(model, 'cnn_TensorFlow')\n",
    "\n",
    "end_time = time.time()\n",
    "dur_min = int((end_time - start_time)/60)\n",
    "print('Model stored in '+ str(dur_min) + \" minutes.\")"
   ]
  },
  {
   "cell_type": "code",
   "execution_count": 390,
   "metadata": {},
   "outputs": [
    {
     "data": {
      "text/plain": [
       "['classifier_15000', 'classifier_60000', 'cnn_TF', 'cnn_TensorFlow']"
      ]
     },
     "execution_count": 390,
     "metadata": {},
     "output_type": "execute_result"
    }
   ],
   "source": [
    "om.models.list()"
   ]
  },
  {
   "cell_type": "raw",
   "metadata": {},
   "source": [
    "om.models.drop('TensorFlow_CNN')"
   ]
  },
  {
   "cell_type": "code",
   "execution_count": 382,
   "metadata": {},
   "outputs": [
    {
     "data": {
      "text/plain": [
       "<tensorflow.python.keras.engine.sequential.Sequential at 0x7faa4dc02160>"
      ]
     },
     "execution_count": 382,
     "metadata": {},
     "output_type": "execute_result"
    }
   ],
   "source": [
    "# Retrieving a model\n",
    "classifier_test = om.models.get('CNN')\n",
    "classifier_test"
   ]
  },
  {
   "cell_type": "code",
   "execution_count": 383,
   "metadata": {},
   "outputs": [
    {
     "name": "stdout",
     "output_type": "stream",
     "text": [
      "[[  0   0   0   0   0   0   0   0   0   0   0   0   0   0   0   0   0   0\n",
      "    0   0   0   0   0   0   0   0   0   0   0   0   0   0   0   0   0   0\n",
      "    0   0   0   0   0   0   0   0   0   0   0   0   0   0   0   0   0   0\n",
      "    0   0   0   0   0   0   0   0   0   0   0   0   0   0   0   0   0   0\n",
      "    0   0   0   0   0   0   0   0   0   0   0   0   0   0   0   0   0   0\n",
      "    0   0   0   0   0   0   0   0   0   0   0   0   0   0   0   0   0   0\n",
      "    0   0   0   0   0   0   0   0   0   0   0   0   0   0   0   0   0   0\n",
      "    0   0   0   0   0   0   0   0   0   0   0   0   0   0   0   0   0   0\n",
      "    0   0   0   0  24  47  44   0   0  51 191 254 255 242 119  24   0   0\n",
      "    0   0   0   0   0   0   0   0   0   0   0   0   0  70 218 253 250 197\n",
      "  111 192 253 253 253 253 253 217  31   0   0   0   0   0   0   0   0   0\n",
      "    0   0   0   0  36 224 253 253 253 253 253 253 172  10 125 251 253 253\n",
      "  192   6   0   0   0   0   0   0   0   0   0   0   0   0 140 253 245 170\n",
      "  170 225 253 253 253  39   0 128 253 253 253  36   0   0   0   0   0   0\n",
      "    0   0   0   0   0   0 140 253 230   8   0  13 152 243 253 161   0   3\n",
      "  187 253 253  36   0   0   0   0   0   0   0   0   0   0   0   0  58 234\n",
      "  253 149   0   0   0  69 239 110   0   0 182 253 253  36   0   0   0   0\n",
      "    0   0   0   0   0   0   0   0   0 138 253 245  83   0   0   0  25   1\n",
      "    0  77 245 253 222  19   0   0   0   0   0   0   0   0   0   0   0   0\n",
      "    0  29 147 253 248  58   0   0   0   0   0 160 253 248 140   0   0   0\n",
      "    0   0   0   0   0   0   0   0   0   0   0   0  15 218 253 227  82   0\n",
      "    0   1 163 251 253 188   0   0   0   0   0   0   0   0   0   0   0   0\n",
      "    0   0   0   0   0  29 214 253 251  93  53 170 253 253 184  50   0   0\n",
      "    0   0   0   0   0   0   0   0   0   0   0   0   0   0   0   0  31 219\n",
      "  253 253 253 253 253 188  15   0   0   0   0   0   0   0   0   0   0   0\n",
      "    0   0   0   0   0   0   0   0   0  29 170 253 253 253 203   8   0   0\n",
      "    0   0   0   0   0   0   0   0   0   0   0   0   0   0   0   0   0   0\n",
      "    0  59 202 253 253 253 196   6   0   0   0   0   0   0   0   0   0   0\n",
      "    0   0   0   0   0   0   0   0   0   0  34 213 253 253 229 253 253 171\n",
      "   22   0   0   0   0   0   0   0   0   0   0   0   0   0   0   0   0   0\n",
      "    0  23 233 253 252 112  15 143 253 253 199   8   0   0   0   0   0   0\n",
      "    0   0   0   0   0   0   0   0   0   0   0  82 253 253 154   0   0   5\n",
      "  190 253 253  77   0   0   0   0   0   0   0   0   0   0   0   0   0   0\n",
      "    0   0  11 208 253 253 173  54   0   0  29 216 253 199   0   0   0   0\n",
      "    0   0   0   0   0   0   0   0   0   0   0   0   0  55 231 253 253 246\n",
      "  218 117  36 140 253 233   0   0   0   0   0   0   0   0   0   0   0   0\n",
      "    0   0   0   0   0   0   6 160 221 253 253 253 253 253 253 167   0   0\n",
      "    0   0   0   0   0   0   0   0   0   0   0   0   0   0   0   0   0   0\n",
      "   20  68 149 209 253 253 189  24   0   0   0   0   0   0   0   0   0   0\n",
      "    0   0   0   0   0   0   0   0   0   0   0   0   0   0   0   0   0   0\n",
      "    0   0   0   0   0   0   0   0   0   0   0   0   0   0   0   0   0   0\n",
      "    0   0   0   0   0   0   0   0   0   0   0   0   0   0   0   0   0   0\n",
      "    0   0   0   0   0   0   0   0   0   0   0   0   0   0   0   0   0   0\n",
      "    0   0   0   0   0   0   0   0   0   0]]\n",
      "Instance from the mnist.test_images() on row 6826\n",
      "Expected: 8\n",
      "Predictions: 8\n",
      "[[19.447739 25.187798 27.53896  25.653694 18.643902 26.906826 27.72033\n",
      "  17.859245 34.624752 23.805767]]\n"
     ]
    },
    {
     "data": {
      "image/png": "[encoded data removed]",
      "text/plain": [
       "<Figure size 432x288 with 1 Axes>"
      ]
     },
     "metadata": {
      "needs_background": "light"
     },
     "output_type": "display_data"
    }
   ],
   "source": [
    "n = random.randint(0,test_images.shape[0])\n",
    "test_single = test_images[n]\n",
    "\n",
    "flatten_single = test_single.reshape(1, -1)\n",
    "print(flatten_single)\n",
    "predicted = classifier_test.predict(flatten_single)\n",
    "result = np.where(predicted == np.amax(predicted))\n",
    "\n",
    "plt.imshow(test_single, cmap=plt.cm.gray_r, interpolation='nearest')\n",
    "print('Instance from the mnist.test_images() on row %i' %n)\n",
    "print('Expected: %i' % test_labels[n])\n",
    "print('Predictions: %i' % result[1][0])\n",
    "print(predicted)"
   ]
  }
 ],
 "metadata": {
  "kernelspec": {
   "display_name": "Python 3",
   "language": "python",
   "name": "python3"
  },
  "language_info": {
   "codemirror_mode": {
    "name": "ipython",
    "version": 3
   },
   "file_extension": ".py",
   "mimetype": "text/x-python",
   "name": "python",
   "nbconvert_exporter": "python",
   "pygments_lexer": "ipython3",
   "version": "3.6.8"
  }
 },
 "nbformat": 4,
 "nbformat_minor": 4
}
