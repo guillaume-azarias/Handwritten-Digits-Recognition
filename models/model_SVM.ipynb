{
 "cells": [
  {
   "cell_type": "markdown",
   "metadata": {},
   "source": [
    "# MNIST omega|ml tutorial\n",
    "\n",
    "Modified from the [scikit learn tutorial](https://scikit-learn.org/stable/auto_examples/classification/plot_digits_classification.html#sphx-glr-download-auto-examples-classification-plot-digits-classification-py)"
   ]
  },
  {
   "cell_type": "markdown",
   "metadata": {},
   "source": [
    "## Import the relevant libraries"
   ]
  },
  {
   "cell_type": "code",
   "execution_count": 1,
   "metadata": {},
   "outputs": [],
   "source": [
    "import matplotlib.pyplot as plt\n",
    "\n",
    "# Import the mnist dataset\n",
    "# https://github.com/datapythonista/mnist\n",
    "import mnist\n",
    "\n",
    "# Import classifiers and performance metrics\n",
    "from sklearn import svm, metrics\n",
    "from sklearn.model_selection import train_test_split\n",
    "\n",
    "import omegaml as ml"
   ]
  },
  {
   "cell_type": "markdown",
   "metadata": {},
   "source": [
    "## Load the data"
   ]
  },
  {
   "cell_type": "code",
   "execution_count": 2,
   "metadata": {},
   "outputs": [
    {
     "data": {
      "text/plain": [
       "(60000, 28, 28)"
      ]
     },
     "execution_count": 2,
     "metadata": {},
     "output_type": "execute_result"
    }
   ],
   "source": [
    "# The mnist dataset originally 28x18\n",
    "images = mnist.train_images()\n",
    "images.shape"
   ]
  },
  {
   "cell_type": "code",
   "execution_count": 3,
   "metadata": {},
   "outputs": [
    {
     "data": {
      "image/png": "[encoded data removed]",
      "text/plain": [
       "<Figure size 432x288 with 12 Axes>"
      ]
     },
     "metadata": {
      "needs_background": "light"
     },
     "output_type": "display_data"
    }
   ],
   "source": [
    "_, axes = plt.subplots(2, 6)\n",
    "images_and_labels = list(zip(mnist.train_images(), mnist.train_labels()))\n",
    "for ax, (image, label) in zip(axes[0, :], images_and_labels[:6]):\n",
    "    ax.set_axis_off()\n",
    "    ax.imshow(image, cmap=plt.cm.gray_r, interpolation='nearest')\n",
    "    ax.set_title('Training: %i' % label)"
   ]
  },
  {
   "cell_type": "code",
   "execution_count": 4,
   "metadata": {},
   "outputs": [
    {
     "data": {
      "text/plain": [
       "array([5, 0, 4, 1, 9, 2], dtype=uint8)"
      ]
     },
     "execution_count": 4,
     "metadata": {},
     "output_type": "execute_result"
    }
   ],
   "source": [
    "mnist.train_labels()[:6]"
   ]
  },
  {
   "cell_type": "code",
   "execution_count": 5,
   "metadata": {},
   "outputs": [
    {
     "data": {
      "text/plain": [
       "(60000, 784)"
      ]
     },
     "execution_count": 5,
     "metadata": {},
     "output_type": "execute_result"
    }
   ],
   "source": [
    "# Flattening the images\n",
    "full_data = images.reshape((images.shape[0], -1))\n",
    "full_data.shape"
   ]
  },
  {
   "cell_type": "code",
   "execution_count": 7,
   "metadata": {},
   "outputs": [],
   "source": [
    "# I use only part of the dataset\n",
    "\n",
    "row_number = 60000"
   ]
  },
  {
   "cell_type": "code",
   "execution_count": 8,
   "metadata": {},
   "outputs": [],
   "source": [
    "assert row_number<= min(full_data.shape[0], mnist.train_labels().shape[0]), 'The number of rows wanted is greater than the size of the full dataset.'\n",
    "\n",
    "# data\n",
    "data = full_data[:row_number, :]\n",
    "data = data/255 # Normalising. https://aigeekprogrammer.com/keras-python-mnist-handwritten-digit-recognition/\n",
    "\n",
    "# train_labels\n",
    "full_train_labels = mnist.train_labels()\n",
    "train_labels = full_train_labels[:row_number]"
   ]
  },
  {
   "cell_type": "code",
   "execution_count": 9,
   "metadata": {},
   "outputs": [],
   "source": [
    "# Split data into train and test subsets\n",
    "X_train, X_test, y_train, y_test = train_test_split(\n",
    "    data, train_labels, test_size=0.2, shuffle=False)"
   ]
  },
  {
   "cell_type": "markdown",
   "metadata": {},
   "source": [
    "## Store the data on omega|ml"
   ]
  },
  {
   "cell_type": "code",
   "execution_count": 10,
   "metadata": {},
   "outputs": [
    {
     "data": {
      "text/plain": [
       "<Metadata: Metadata(name=flatten_digits,bucket=omegaml,prefix=data/,kind=ndarray.bin,created=2020-09-24 13:28:03.078000)>"
      ]
     },
     "execution_count": 10,
     "metadata": {},
     "output_type": "execute_result"
    }
   ],
   "source": [
    "om.datasets.put(X_train, 'flatten_digits')"
   ]
  },
  {
   "cell_type": "code",
   "execution_count": 11,
   "metadata": {},
   "outputs": [],
   "source": [
    "data = om.datasets.get('flatten_digits')"
   ]
  },
  {
   "cell_type": "code",
   "execution_count": 12,
   "metadata": {},
   "outputs": [
    {
     "data": {
      "text/plain": [
       "<Metadata: Metadata(name=targets,bucket=omegaml,prefix=data/,kind=ndarray.bin,created=2020-09-25 07:57:56.915000)>"
      ]
     },
     "execution_count": 12,
     "metadata": {},
     "output_type": "execute_result"
    }
   ],
   "source": [
    "om.datasets.put(X_train, 'flatten_digits')\n",
    "om.datasets.put(y_train, 'targets')"
   ]
  },
  {
   "cell_type": "code",
   "execution_count": 13,
   "metadata": {},
   "outputs": [
    {
     "data": {
      "text/plain": [
       "['X_test',\n",
       " 'flatten_digits',\n",
       " 'flatten_image',\n",
       " 'flatten_test',\n",
       " 'np_input',\n",
       " 'stream-classifier_new',\n",
       " 'stream-classifier_om',\n",
       " 'stream-classifier_skl',\n",
       " 'stream-mnist-test',\n",
       " 'targets',\n",
       " 'train_images']"
      ]
     },
     "execution_count": 13,
     "metadata": {},
     "output_type": "execute_result"
    }
   ],
   "source": [
    "om.datasets.list()"
   ]
  },
  {
   "cell_type": "code",
   "execution_count": 14,
   "metadata": {},
   "outputs": [],
   "source": [
    "# Create a classifier: a support vector classifier\n",
    "classifier_om = svm.SVC(gamma=0.001)"
   ]
  },
  {
   "cell_type": "code",
   "execution_count": 16,
   "metadata": {},
   "outputs": [
    {
     "data": {
      "text/plain": [
       "<Metadata: Metadata(name=classifier_60000,bucket=omegaml,prefix=models/,kind=sklearn.joblib,created=2021-01-11 08:18:29.049000)>"
      ]
     },
     "execution_count": 16,
     "metadata": {},
     "output_type": "execute_result"
    }
   ],
   "source": [
    "# Publishing the model\n",
    "om.models.put(classifier_om, 'classifier_60000')"
   ]
  },
  {
   "cell_type": "code",
   "execution_count": 23,
   "metadata": {},
   "outputs": [
    {
     "data": {
      "text/plain": [
       "'<Metadata: Metadata(name=classifier_60000,bucket=omegaml,prefix=models/,kind=sklearn.joblib,created=2021-01-11 08:18:29.049000)>'"
      ]
     },
     "execution_count": 23,
     "metadata": {},
     "output_type": "execute_result"
    }
   ],
   "source": [
    "# Train on the model\n",
    "om.runtime.model('classifier_60000').fit('flatten_digits', 'targets').get()\n",
    "# om.runtime.model('classifier_60000').fit('flatten_digits', 'targets')"
   ]
  },
  {
   "cell_type": "code",
   "execution_count": 24,
   "metadata": {},
   "outputs": [
    {
     "data": {
      "text/plain": [
       "['classifier_15000', 'classifier_60000', 'cnn_TF']"
      ]
     },
     "execution_count": 24,
     "metadata": {},
     "output_type": "execute_result"
    }
   ],
   "source": [
    "# Check that the model is stored in omega|ml\n",
    "om.models.list()"
   ]
  },
  {
   "cell_type": "raw",
   "metadata": {},
   "source": [
    "om.models.drop('classifier_50000')"
   ]
  },
  {
   "cell_type": "markdown",
   "metadata": {},
   "source": [
    "## Testing the model"
   ]
  },
  {
   "cell_type": "code",
   "execution_count": 25,
   "metadata": {},
   "outputs": [
    {
     "data": {
      "text/plain": [
       "(12000,)"
      ]
     },
     "execution_count": 25,
     "metadata": {},
     "output_type": "execute_result"
    }
   ],
   "source": [
    "om.datasets.put(X_test, 'X_test')\n",
    "predicted = om.runtime.model('classifier_60000').predict('X_test').get()\n",
    "predicted.shape"
   ]
  },
  {
   "cell_type": "code",
   "execution_count": 26,
   "metadata": {},
   "outputs": [],
   "source": [
    "# Fetch the model from omega|ml\n",
    "classifier_om_test = om.models.get('classifier_60000')"
   ]
  },
  {
   "cell_type": "code",
   "execution_count": 41,
   "metadata": {},
   "outputs": [
    {
     "data": {
      "text/plain": [
       "['classifier_15000', 'classifier_60000', 'cnn_TF', 'cnn_TensorFlow']"
      ]
     },
     "execution_count": 41,
     "metadata": {},
     "output_type": "execute_result"
    }
   ],
   "source": [
    "om.models.list()"
   ]
  },
  {
   "cell_type": "code",
   "execution_count": 27,
   "metadata": {},
   "outputs": [
    {
     "name": "stdout",
     "output_type": "stream",
     "text": [
      "Classification report for classifier SVC(gamma=0.001):\n",
      "              precision    recall  f1-score   support\n",
      "\n",
      "           0       0.97      0.98      0.97      1194\n",
      "           1       0.95      0.98      0.96      1272\n",
      "           2       0.93      0.92      0.93      1196\n",
      "           3       0.93      0.91      0.92      1242\n",
      "           4       0.93      0.95      0.94      1187\n",
      "           5       0.91      0.91      0.91      1097\n",
      "           6       0.95      0.98      0.96      1170\n",
      "           7       0.96      0.94      0.95      1297\n",
      "           8       0.93      0.90      0.91      1198\n",
      "           9       0.92      0.91      0.91      1147\n",
      "\n",
      "    accuracy                           0.94     12000\n",
      "   macro avg       0.94      0.94      0.94     12000\n",
      "weighted avg       0.94      0.94      0.94     12000\n",
      "\n",
      "\n"
     ]
    }
   ],
   "source": [
    "# Metrics\n",
    "print(\"Classification report for classifier %s:\\n%s\\n\"\n",
    "      % (classifier_om_test, metrics.classification_report(y_test, predicted)))\n",
    "# disp = metrics.plot_confusion_matrix(classifier_om_test, X_test, y_test)\n",
    "# disp.figure_.suptitle(\"Confusion Matrix\")\n",
    "# print(\"Confusion matrix:\\n%s\" % disp.confusion_matrix)\n",
    "# plt.show()"
   ]
  },
  {
   "cell_type": "code",
   "execution_count": null,
   "metadata": {},
   "outputs": [],
   "source": [
    "om.datasets.list()"
   ]
  },
  {
   "cell_type": "markdown",
   "metadata": {},
   "source": [
    "## Testing on a single instance"
   ]
  },
  {
   "cell_type": "code",
   "execution_count": 28,
   "metadata": {},
   "outputs": [],
   "source": [
    "test_images = mnist.test_images()\n",
    "test_labels = mnist.test_labels()"
   ]
  },
  {
   "cell_type": "code",
   "execution_count": 29,
   "metadata": {},
   "outputs": [
    {
     "data": {
      "image/png": "[encoded data removed]",
      "text/plain": [
       "<Figure size 432x288 with 12 Axes>"
      ]
     },
     "metadata": {
      "needs_background": "light"
     },
     "output_type": "display_data"
    }
   ],
   "source": [
    "_, axes = plt.subplots(2, 6)\n",
    "images_and_labels = list(zip(test_images, test_labels))\n",
    "for ax, (image, label) in zip(axes[0, :], images_and_labels[:6]):\n",
    "    ax.set_axis_off()\n",
    "    ax.imshow(image, cmap=plt.cm.gray_r, interpolation='nearest')\n",
    "    ax.set_title('Test: %i' % label)"
   ]
  },
  {
   "cell_type": "code",
   "execution_count": 30,
   "metadata": {},
   "outputs": [
    {
     "data": {
      "text/plain": [
       "(10000, 784)"
      ]
     },
     "execution_count": 30,
     "metadata": {},
     "output_type": "execute_result"
    }
   ],
   "source": [
    "full_test = test_images.reshape((test_images.shape[0], -1))\n",
    "full_test.shape"
   ]
  },
  {
   "cell_type": "code",
   "execution_count": 31,
   "metadata": {},
   "outputs": [],
   "source": [
    "import random\n",
    "n = random.randint(0,full_test.shape[0])"
   ]
  },
  {
   "cell_type": "code",
   "execution_count": 32,
   "metadata": {},
   "outputs": [
    {
     "data": {
      "image/png": "[encoded data removed]",
      "text/plain": [
       "<Figure size 432x288 with 12 Axes>"
      ]
     },
     "metadata": {
      "needs_background": "light"
     },
     "output_type": "display_data"
    }
   ],
   "source": [
    "_, axes = plt.subplots(2, 6)\n",
    "images_and_labels = list(zip(mnist.train_images(), mnist.train_labels()))\n",
    "for ax, (image, label) in zip(axes[0, :], images_and_labels[:6]):\n",
    "    ax.set_axis_off()\n",
    "    ax.imshow(image, cmap=plt.cm.gray_r, interpolation='nearest')\n",
    "    ax.set_title('Train %i' % label)"
   ]
  },
  {
   "cell_type": "markdown",
   "metadata": {},
   "source": [
    "*All in one*"
   ]
  },
  {
   "cell_type": "code",
   "execution_count": 38,
   "metadata": {},
   "outputs": [
    {
     "name": "stdout",
     "output_type": "stream",
     "text": [
      "Instance from the mnist.test_images() on row 4921\n",
      "Expected: 7\n",
      "Predicted: 7\n"
     ]
    },
    {
     "data": {
      "image/png": "[encoded data removed]",
      "text/plain": [
       "<Figure size 432x288 with 1 Axes>"
      ]
     },
     "metadata": {
      "needs_background": "light"
     },
     "output_type": "display_data"
    }
   ],
   "source": [
    "n = random.randint(0,full_test.shape[0])\n",
    "test_image = test_images[n]\n",
    "\n",
    "flatten_test = test_image.reshape(1, -1)/255 # Do not forget to normalize !\n",
    "om.datasets.put(flatten_test, 'flatten_test')\n",
    "predicted = om.runtime.model('classifier_60000').predict('flatten_test').get()\n",
    "\n",
    "plt.imshow(test_image, cmap=plt.cm.gray_r, interpolation='nearest')\n",
    "print('Instance from the mnist.test_images() on row %i' %n)\n",
    "print('Expected: %i' % test_labels[n])\n",
    "print('Predicted: %i' % predicted)"
   ]
  },
  {
   "cell_type": "code",
   "execution_count": null,
   "metadata": {},
   "outputs": [],
   "source": []
  },
  {
   "cell_type": "markdown",
   "metadata": {},
   "source": [
    "## Test on a mask instance from the Flask app"
   ]
  },
  {
   "cell_type": "code",
   "execution_count": null,
   "metadata": {},
   "outputs": [],
   "source": [
    "help('omegaml.mixins.mdf.iotools') "
   ]
  },
  {
   "cell_type": "code",
   "execution_count": null,
   "metadata": {},
   "outputs": [],
   "source": [
    "import os\n",
    "os.getcwd()"
   ]
  },
  {
   "cell_type": "code",
   "execution_count": null,
   "metadata": {},
   "outputs": [],
   "source": [
    "raw_input = om.datasets.get('np_input')"
   ]
  },
  {
   "cell_type": "code",
   "execution_count": null,
   "metadata": {},
   "outputs": [],
   "source": [
    "plt.imshow(raw_input, cmap=plt.cm.gray_r, interpolation='nearest')"
   ]
  },
  {
   "cell_type": "code",
   "execution_count": null,
   "metadata": {},
   "outputs": [],
   "source": [
    "# Crop the np array\n",
    "magnif = 8\n",
    "input_size = 28\n",
    "canvas_width = magnif*input_size\n",
    "\n",
    "# Crop the input to discard the extra pixels added to get a 500x500 array\n",
    "raw_input = raw_input[:canvas_width, :canvas_width]\n",
    "raw_input.shape"
   ]
  },
  {
   "cell_type": "code",
   "execution_count": null,
   "metadata": {},
   "outputs": [],
   "source": [
    "plt.imshow(raw_input, cmap=plt.cm.gray_r, interpolation='nearest')"
   ]
  },
  {
   "cell_type": "code",
   "execution_count": null,
   "metadata": {},
   "outputs": [],
   "source": [
    "# https://scipython.com/blog/binning-a-2d-array-in-numpy/\n",
    "def rebin(arr, new_shape):\n",
    "    \"\"\"Rebin 2D array arr to shape new_shape by averaging.\"\"\"\n",
    "    shape = (new_shape[0], arr.shape[0] // new_shape[0],\n",
    "             new_shape[1], arr.shape[1] // new_shape[1])\n",
    "    return arr.reshape(shape).mean(-1).mean(1)"
   ]
  },
  {
   "cell_type": "code",
   "execution_count": null,
   "metadata": {},
   "outputs": [],
   "source": [
    "processed_input = rebin(raw_input, (input_size, input_size))\n",
    "plt.imshow(processed_input, cmap=plt.cm.gray_r, interpolation='nearest')"
   ]
  },
  {
   "cell_type": "code",
   "execution_count": null,
   "metadata": {},
   "outputs": [],
   "source": [
    "flatten_test = processed_input.reshape(1, -1) # No need to normalize since it was already\n",
    "\n",
    "om.datasets.put(flatten_test, 'flatten_test')\n",
    "predicted = om.runtime.model('classifier_om').predict('flatten_test').get()\n",
    "\n",
    "plt.imshow(processed_input, cmap=plt.cm.gray_r, interpolation='nearest')\n",
    "print('Predicted: %i' % predicted)"
   ]
  },
  {
   "cell_type": "code",
   "execution_count": null,
   "metadata": {},
   "outputs": [],
   "source": [
    "# All in one: Test on a mask instance from the Flask app\n",
    "\n",
    "# Retrieve the data\n",
    "raw_input = om.datasets.get('np_input')\n",
    "# Crop the np array\n",
    "magnif = 8 # Must be an integer\n",
    "input_size = 28\n",
    "canvas_width = magnif*input_size\n",
    "\n",
    "# Pre-processing: size reduction and flattening\n",
    "raw_input = raw_input[:canvas_width, :canvas_width] # Crop the input to discard the extra pixels added to get a 500x500 array\n",
    "processed_input = rebin(raw_input, (input_size, input_size))\n",
    "flatten_test = processed_input.reshape(1, -1) # No need to normalize since it was already\n",
    "\n",
    "# Predict\n",
    "om.datasets.put(flatten_test, 'flatten_test')\n",
    "predicted = om.runtime.model('classifier_om').predict('flatten_test').get()\n",
    "\n",
    "# Show results\n",
    "plt.imshow(processed_input, cmap=plt.cm.gray_r, interpolation='nearest')\n",
    "print('Predicted: %i' % predicted)"
   ]
  },
  {
   "cell_type": "code",
   "execution_count": null,
   "metadata": {},
   "outputs": [],
   "source": [
    "om.datasets.list()"
   ]
  },
  {
   "cell_type": "code",
   "execution_count": null,
   "metadata": {},
   "outputs": [],
   "source": [
    "om.datasets.drop('np_input')"
   ]
  }
 ],
 "metadata": {
  "kernelspec": {
   "display_name": "Python 3",
   "language": "python",
   "name": "python3"
  },
  "language_info": {
   "codemirror_mode": {
    "name": "ipython",
    "version": 3
   },
   "file_extension": ".py",
   "mimetype": "text/x-python",
   "name": "python",
   "nbconvert_exporter": "python",
   "pygments_lexer": "ipython3",
   "version": "3.6.8"
  }
 },
 "nbformat": 4,
 "nbformat_minor": 4
}
